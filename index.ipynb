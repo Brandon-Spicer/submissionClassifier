{
 "cells": [
  {
   "cell_type": "code",
   "execution_count": null,
   "metadata": {
    "colab": {},
    "colab_type": "code",
    "id": "kiwswOsMrKTx"
   },
   "outputs": [],
   "source": []
  },
  {
   "cell_type": "code",
   "execution_count": 16,
   "metadata": {
    "cellView": "both",
    "colab": {
     "base_uri": "https://localhost:8080/",
     "height": 204
    },
    "colab_type": "code",
    "id": "Lkq4jgtiZBcG",
    "outputId": "9bec165e-56d0-4ae4-8d58-4f7968e9aac5"
   },
   "outputs": [],
   "source": [
    "#@title 1. install fastbook\n",
    "!pip3 install -Uqq fastbook"
   ]
  },
  {
   "cell_type": "code",
   "execution_count": 10,
   "metadata": {
    "cellView": "both",
    "colab": {},
    "colab_type": "code",
    "id": "A__04T2FWb5F"
   },
   "outputs": [],
   "source": [
    "#@title 2. imports\n",
    "\n",
    "from fastbook import *\n",
    "from fastai.vision.widgets import *"
   ]
  },
  {
   "cell_type": "code",
   "execution_count": 12,
   "metadata": {
    "colab": {},
    "colab_type": "code",
    "id": "vTCNYpcdq6Ty"
   },
   "outputs": [],
   "source": [
    "learn = load_learner('export.pkl')"
   ]
  },
  {
   "cell_type": "code",
   "execution_count": null,
   "metadata": {
    "colab": {},
    "colab_type": "code",
    "id": "kK0iQ59os0BD"
   },
   "outputs": [],
   "source": []
  },
  {
   "cell_type": "code",
   "execution_count": 13,
   "metadata": {
    "colab": {},
    "colab_type": "code",
    "id": "s_l7iYFvs0Hy"
   },
   "outputs": [],
   "source": [
    "# make widgets\n",
    "\n",
    "btn_upload = widgets.FileUpload()\n",
    "btn_run = widgets.Button(description='Classify')\n",
    "out_pl = widgets.Output()\n",
    "lbl_pred = widgets.Label() \n",
    "\n",
    "def on_click_classify(change):\n",
    "    img = PILImage.create(btn_upload.data[-1])\n",
    "    out_pl.clear_output()\n",
    "    with out_pl: display(img.to_thumb(300,300))\n",
    "    pred,pred_idx,probs = learn.predict(img)\n",
    "    lbl_pred.value = f'Prediction: {pred}; Probability: {probs[pred_idx]:.04f}'\n",
    "\n",
    "btn_run.on_click(on_click_classify)"
   ]
  },
  {
   "cell_type": "code",
   "execution_count": 15,
   "metadata": {
    "colab": {
     "base_uri": "https://localhost:8080/",
     "height": 314,
     "referenced_widgets": [
      "f589f695412b4938a708131398b3900c",
      "c5772cf803c047e9a5a18ccde37a7216",
      "b8942b7875254b29b0573f242a3b40e7",
      "b06f2a951d3f47c2883f4036be10db4d",
      "d89add651840457b9dfc1074a43bf2a7",
      "616884c4ead041d3b8dae2a33e2c84ae",
      "dd6de48a367c4844aa46763b689a9546",
      "926794e84bce4a378ef521dbfeebfbd8",
      "d50d2e85264946578c5d3ec8d6db99d0",
      "cff00f8b41fc49cba4d653b38f2040f8",
      "4096db4d0f2545449acac38310494221",
      "90923e894ce94d2a9b525b7cc7eccc98",
      "e5ec5f9ea60e41ddb57b1bfe45f84f79",
      "d9d58ce13f624ecda94599d930f8a3be",
      "22c79e30eee94d968deea86a7cae0794",
      "4c7d795f61d249f99c4f7547993d6344"
     ]
    },
    "colab_type": "code",
    "id": "W48Q_3OrsbPz",
    "outputId": "9b5e29bb-4ef5-4e74-c2ec-7357531a3b96"
   },
   "outputs": [
    {
     "data": {
      "application/vnd.jupyter.widget-view+json": {
       "model_id": "e530ce6a7b8e456d8f1d3475922baf5a",
       "version_major": 2,
       "version_minor": 0
      },
      "text/plain": [
       "VBox(children=(Label(value='Upload a submission image.'), FileUpload(value={'triangle.jpg': {'metadata': {'nam…"
      ]
     },
     "metadata": {},
     "output_type": "display_data"
    }
   ],
   "source": [
    "VBox([widgets.Label('Upload a submission image.'), \n",
    "      btn_upload, btn_run, out_pl, lbl_pred])"
   ]
  },
  {
   "cell_type": "code",
   "execution_count": null,
   "metadata": {
    "colab": {},
    "colab_type": "code",
    "id": "TNxyR41qt4Yw"
   },
   "outputs": [],
   "source": []
  }
 ],
 "metadata": {
  "colab": {
   "collapsed_sections": [],
   "name": "deploy_test.ipynb",
   "provenance": []
  },
  "kernelspec": {
   "display_name": "Python 3",
   "language": "python",
   "name": "python3"
  },
  "language_info": {
   "codemirror_mode": {
    "name": "ipython",
    "version": 3
   },
   "file_extension": ".py",
   "mimetype": "text/x-python",
   "name": "python",
   "nbconvert_exporter": "python",
   "pygments_lexer": "ipython3",
   "version": "3.7.5"
  },
  "widgets": {
   "application/vnd.jupyter.widget-state+json": {
    "22c79e30eee94d968deea86a7cae0794": {
     "model_module": "@jupyter-widgets/base",
     "model_name": "LayoutModel",
     "state": {
      "_model_module": "@jupyter-widgets/base",
      "_model_module_version": "1.2.0",
      "_model_name": "LayoutModel",
      "_view_count": null,
      "_view_module": "@jupyter-widgets/base",
      "_view_module_version": "1.2.0",
      "_view_name": "LayoutView",
      "align_content": null,
      "align_items": null,
      "align_self": null,
      "border": null,
      "bottom": null,
      "display": null,
      "flex": null,
      "flex_flow": null,
      "grid_area": null,
      "grid_auto_columns": null,
      "grid_auto_flow": null,
      "grid_auto_rows": null,
      "grid_column": null,
      "grid_gap": null,
      "grid_row": null,
      "grid_template_areas": null,
      "grid_template_columns": null,
      "grid_template_rows": null,
      "height": null,
      "justify_content": null,
      "justify_items": null,
      "left": null,
      "margin": null,
      "max_height": null,
      "max_width": null,
      "min_height": null,
      "min_width": null,
      "object_fit": null,
      "object_position": null,
      "order": null,
      "overflow": null,
      "overflow_x": null,
      "overflow_y": null,
      "padding": null,
      "right": null,
      "top": null,
      "visibility": null,
      "width": null
     }
    },
    "4096db4d0f2545449acac38310494221": {
     "model_module": "@jupyter-widgets/base",
     "model_name": "LayoutModel",
     "state": {
      "_model_module": "@jupyter-widgets/base",
      "_model_module_version": "1.2.0",
      "_model_name": "LayoutModel",
      "_view_count": null,
      "_view_module": "@jupyter-widgets/base",
      "_view_module_version": "1.2.0",
      "_view_name": "LayoutView",
      "align_content": null,
      "align_items": null,
      "align_self": null,
      "border": null,
      "bottom": null,
      "display": null,
      "flex": null,
      "flex_flow": null,
      "grid_area": null,
      "grid_auto_columns": null,
      "grid_auto_flow": null,
      "grid_auto_rows": null,
      "grid_column": null,
      "grid_gap": null,
      "grid_row": null,
      "grid_template_areas": null,
      "grid_template_columns": null,
      "grid_template_rows": null,
      "height": null,
      "justify_content": null,
      "justify_items": null,
      "left": null,
      "margin": null,
      "max_height": null,
      "max_width": null,
      "min_height": null,
      "min_width": null,
      "object_fit": null,
      "object_position": null,
      "order": null,
      "overflow": null,
      "overflow_x": null,
      "overflow_y": null,
      "padding": null,
      "right": null,
      "top": null,
      "visibility": null,
      "width": null
     }
    },
    "4c7d795f61d249f99c4f7547993d6344": {
     "model_module": "@jupyter-widgets/base",
     "model_name": "LayoutModel",
     "state": {
      "_model_module": "@jupyter-widgets/base",
      "_model_module_version": "1.2.0",
      "_model_name": "LayoutModel",
      "_view_count": null,
      "_view_module": "@jupyter-widgets/base",
      "_view_module_version": "1.2.0",
      "_view_name": "LayoutView",
      "align_content": null,
      "align_items": null,
      "align_self": null,
      "border": null,
      "bottom": null,
      "display": null,
      "flex": null,
      "flex_flow": null,
      "grid_area": null,
      "grid_auto_columns": null,
      "grid_auto_flow": null,
      "grid_auto_rows": null,
      "grid_column": null,
      "grid_gap": null,
      "grid_row": null,
      "grid_template_areas": null,
      "grid_template_columns": null,
      "grid_template_rows": null,
      "height": null,
      "justify_content": null,
      "justify_items": null,
      "left": null,
      "margin": null,
      "max_height": null,
      "max_width": null,
      "min_height": null,
      "min_width": null,
      "object_fit": null,
      "object_position": null,
      "order": null,
      "overflow": null,
      "overflow_x": null,
      "overflow_y": null,
      "padding": null,
      "right": null,
      "top": null,
      "visibility": null,
      "width": null
     }
    },
    "616884c4ead041d3b8dae2a33e2c84ae": {
     "model_module": "@jupyter-widgets/output",
     "model_name": "OutputModel",
     "state": {
      "_dom_classes": [],
      "_model_module": "@jupyter-widgets/output",
      "_model_module_version": "1.0.0",
      "_model_name": "OutputModel",
      "_view_count": null,
      "_view_module": "@jupyter-widgets/output",
      "_view_module_version": "1.0.0",
      "_view_name": "OutputView",
      "layout": "IPY_MODEL_4c7d795f61d249f99c4f7547993d6344",
      "msg_id": "",
      "outputs": [
       {
        "image/png": "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\n",
        "metadata": {
         "tags": []
        },
        "output_type": "display_data",
        "text/plain": "<PIL.Image.Image image mode=RGB size=300x169 at 0x7F650E4315F8>"
       }
      ]
     }
    },
    "90923e894ce94d2a9b525b7cc7eccc98": {
     "model_module": "@jupyter-widgets/controls",
     "model_name": "ButtonStyleModel",
     "state": {
      "_model_module": "@jupyter-widgets/controls",
      "_model_module_version": "1.5.0",
      "_model_name": "ButtonStyleModel",
      "_view_count": null,
      "_view_module": "@jupyter-widgets/base",
      "_view_module_version": "1.2.0",
      "_view_name": "StyleView",
      "button_color": null,
      "font_weight": ""
     }
    },
    "926794e84bce4a378ef521dbfeebfbd8": {
     "model_module": "@jupyter-widgets/controls",
     "model_name": "DescriptionStyleModel",
     "state": {
      "_model_module": "@jupyter-widgets/controls",
      "_model_module_version": "1.5.0",
      "_model_name": "DescriptionStyleModel",
      "_view_count": null,
      "_view_module": "@jupyter-widgets/base",
      "_view_module_version": "1.2.0",
      "_view_name": "StyleView",
      "description_width": ""
     }
    },
    "b06f2a951d3f47c2883f4036be10db4d": {
     "model_module": "@jupyter-widgets/controls",
     "model_name": "FileUploadModel",
     "state": {
      "_counter": 1,
      "_dom_classes": [],
      "_model_module": "@jupyter-widgets/controls",
      "_model_module_version": "1.5.0",
      "_model_name": "FileUploadModel",
      "_view_count": null,
      "_view_module": "@jupyter-widgets/controls",
      "_view_module_version": "1.5.0",
      "_view_name": "FileUploadView",
      "accept": "",
      "button_style": "",
      "data": [
       null
      ],
      "description": "Upload",
      "description_tooltip": null,
      "disabled": false,
      "error": "",
      "icon": "upload",
      "layout": "IPY_MODEL_4096db4d0f2545449acac38310494221",
      "metadata": [
       {
        "lastModified": 1599260102162,
        "name": "triangle.jpg",
        "size": 93787,
        "type": "image/jpeg"
       }
      ],
      "multiple": false,
      "style": "IPY_MODEL_cff00f8b41fc49cba4d653b38f2040f8"
     }
    },
    "b8942b7875254b29b0573f242a3b40e7": {
     "model_module": "@jupyter-widgets/controls",
     "model_name": "LabelModel",
     "state": {
      "_dom_classes": [],
      "_model_module": "@jupyter-widgets/controls",
      "_model_module_version": "1.5.0",
      "_model_name": "LabelModel",
      "_view_count": null,
      "_view_module": "@jupyter-widgets/controls",
      "_view_module_version": "1.5.0",
      "_view_name": "LabelView",
      "description": "",
      "description_tooltip": null,
      "layout": "IPY_MODEL_d50d2e85264946578c5d3ec8d6db99d0",
      "placeholder": "​",
      "style": "IPY_MODEL_926794e84bce4a378ef521dbfeebfbd8",
      "value": "Upload a submission image."
     }
    },
    "c5772cf803c047e9a5a18ccde37a7216": {
     "model_module": "@jupyter-widgets/base",
     "model_name": "LayoutModel",
     "state": {
      "_model_module": "@jupyter-widgets/base",
      "_model_module_version": "1.2.0",
      "_model_name": "LayoutModel",
      "_view_count": null,
      "_view_module": "@jupyter-widgets/base",
      "_view_module_version": "1.2.0",
      "_view_name": "LayoutView",
      "align_content": null,
      "align_items": null,
      "align_self": null,
      "border": null,
      "bottom": null,
      "display": null,
      "flex": null,
      "flex_flow": null,
      "grid_area": null,
      "grid_auto_columns": null,
      "grid_auto_flow": null,
      "grid_auto_rows": null,
      "grid_column": null,
      "grid_gap": null,
      "grid_row": null,
      "grid_template_areas": null,
      "grid_template_columns": null,
      "grid_template_rows": null,
      "height": null,
      "justify_content": null,
      "justify_items": null,
      "left": null,
      "margin": null,
      "max_height": null,
      "max_width": null,
      "min_height": null,
      "min_width": null,
      "object_fit": null,
      "object_position": null,
      "order": null,
      "overflow": null,
      "overflow_x": null,
      "overflow_y": null,
      "padding": null,
      "right": null,
      "top": null,
      "visibility": null,
      "width": null
     }
    },
    "cff00f8b41fc49cba4d653b38f2040f8": {
     "model_module": "@jupyter-widgets/controls",
     "model_name": "ButtonStyleModel",
     "state": {
      "_model_module": "@jupyter-widgets/controls",
      "_model_module_version": "1.5.0",
      "_model_name": "ButtonStyleModel",
      "_view_count": null,
      "_view_module": "@jupyter-widgets/base",
      "_view_module_version": "1.2.0",
      "_view_name": "StyleView",
      "button_color": null,
      "font_weight": ""
     }
    },
    "d50d2e85264946578c5d3ec8d6db99d0": {
     "model_module": "@jupyter-widgets/base",
     "model_name": "LayoutModel",
     "state": {
      "_model_module": "@jupyter-widgets/base",
      "_model_module_version": "1.2.0",
      "_model_name": "LayoutModel",
      "_view_count": null,
      "_view_module": "@jupyter-widgets/base",
      "_view_module_version": "1.2.0",
      "_view_name": "LayoutView",
      "align_content": null,
      "align_items": null,
      "align_self": null,
      "border": null,
      "bottom": null,
      "display": null,
      "flex": null,
      "flex_flow": null,
      "grid_area": null,
      "grid_auto_columns": null,
      "grid_auto_flow": null,
      "grid_auto_rows": null,
      "grid_column": null,
      "grid_gap": null,
      "grid_row": null,
      "grid_template_areas": null,
      "grid_template_columns": null,
      "grid_template_rows": null,
      "height": null,
      "justify_content": null,
      "justify_items": null,
      "left": null,
      "margin": null,
      "max_height": null,
      "max_width": null,
      "min_height": null,
      "min_width": null,
      "object_fit": null,
      "object_position": null,
      "order": null,
      "overflow": null,
      "overflow_x": null,
      "overflow_y": null,
      "padding": null,
      "right": null,
      "top": null,
      "visibility": null,
      "width": null
     }
    },
    "d89add651840457b9dfc1074a43bf2a7": {
     "model_module": "@jupyter-widgets/controls",
     "model_name": "ButtonModel",
     "state": {
      "_dom_classes": [],
      "_model_module": "@jupyter-widgets/controls",
      "_model_module_version": "1.5.0",
      "_model_name": "ButtonModel",
      "_view_count": null,
      "_view_module": "@jupyter-widgets/controls",
      "_view_module_version": "1.5.0",
      "_view_name": "ButtonView",
      "button_style": "",
      "description": "Classify",
      "disabled": false,
      "icon": "",
      "layout": "IPY_MODEL_e5ec5f9ea60e41ddb57b1bfe45f84f79",
      "style": "IPY_MODEL_90923e894ce94d2a9b525b7cc7eccc98",
      "tooltip": ""
     }
    },
    "d9d58ce13f624ecda94599d930f8a3be": {
     "model_module": "@jupyter-widgets/controls",
     "model_name": "DescriptionStyleModel",
     "state": {
      "_model_module": "@jupyter-widgets/controls",
      "_model_module_version": "1.5.0",
      "_model_name": "DescriptionStyleModel",
      "_view_count": null,
      "_view_module": "@jupyter-widgets/base",
      "_view_module_version": "1.2.0",
      "_view_name": "StyleView",
      "description_width": ""
     }
    },
    "dd6de48a367c4844aa46763b689a9546": {
     "model_module": "@jupyter-widgets/controls",
     "model_name": "LabelModel",
     "state": {
      "_dom_classes": [],
      "_model_module": "@jupyter-widgets/controls",
      "_model_module_version": "1.5.0",
      "_model_name": "LabelModel",
      "_view_count": null,
      "_view_module": "@jupyter-widgets/controls",
      "_view_module_version": "1.5.0",
      "_view_name": "LabelView",
      "description": "",
      "description_tooltip": null,
      "layout": "IPY_MODEL_22c79e30eee94d968deea86a7cae0794",
      "placeholder": "​",
      "style": "IPY_MODEL_d9d58ce13f624ecda94599d930f8a3be",
      "value": "Prediction: triangle; Probability: 0.9983"
     }
    },
    "e5ec5f9ea60e41ddb57b1bfe45f84f79": {
     "model_module": "@jupyter-widgets/base",
     "model_name": "LayoutModel",
     "state": {
      "_model_module": "@jupyter-widgets/base",
      "_model_module_version": "1.2.0",
      "_model_name": "LayoutModel",
      "_view_count": null,
      "_view_module": "@jupyter-widgets/base",
      "_view_module_version": "1.2.0",
      "_view_name": "LayoutView",
      "align_content": null,
      "align_items": null,
      "align_self": null,
      "border": null,
      "bottom": null,
      "display": null,
      "flex": null,
      "flex_flow": null,
      "grid_area": null,
      "grid_auto_columns": null,
      "grid_auto_flow": null,
      "grid_auto_rows": null,
      "grid_column": null,
      "grid_gap": null,
      "grid_row": null,
      "grid_template_areas": null,
      "grid_template_columns": null,
      "grid_template_rows": null,
      "height": null,
      "justify_content": null,
      "justify_items": null,
      "left": null,
      "margin": null,
      "max_height": null,
      "max_width": null,
      "min_height": null,
      "min_width": null,
      "object_fit": null,
      "object_position": null,
      "order": null,
      "overflow": null,
      "overflow_x": null,
      "overflow_y": null,
      "padding": null,
      "right": null,
      "top": null,
      "visibility": null,
      "width": null
     }
    },
    "f589f695412b4938a708131398b3900c": {
     "model_module": "@jupyter-widgets/controls",
     "model_name": "VBoxModel",
     "state": {
      "_dom_classes": [],
      "_model_module": "@jupyter-widgets/controls",
      "_model_module_version": "1.5.0",
      "_model_name": "VBoxModel",
      "_view_count": null,
      "_view_module": "@jupyter-widgets/controls",
      "_view_module_version": "1.5.0",
      "_view_name": "VBoxView",
      "box_style": "",
      "children": [
       "IPY_MODEL_b8942b7875254b29b0573f242a3b40e7",
       "IPY_MODEL_b06f2a951d3f47c2883f4036be10db4d",
       "IPY_MODEL_d89add651840457b9dfc1074a43bf2a7",
       "IPY_MODEL_616884c4ead041d3b8dae2a33e2c84ae",
       "IPY_MODEL_dd6de48a367c4844aa46763b689a9546"
      ],
      "layout": "IPY_MODEL_c5772cf803c047e9a5a18ccde37a7216"
     }
    }
   }
  }
 },
 "nbformat": 4,
 "nbformat_minor": 1
}
